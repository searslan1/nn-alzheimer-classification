{
 "cells": [
  {
   "cell_type": "markdown",
   "id": "f9a2aa98",
   "metadata": {},
   "source": [
    "# 🧠 Alzheimer MRI Sınıflandırması: Transfer Learning (ResNet50)\n",
    "\n",
    "Bu notebook, basit CNN modelinde karşılaşılan sınırlılıkları aşmak ve Alzheimer MRI görüntülerinde **ResNet50 tabanlı transfer öğrenme** ile yüksek doğruluk elde etmeyi amaçlamaktadır."
   ]
  },
  {
   "cell_type": "markdown",
   "id": "762424a7",
   "metadata": {},
   "source": [
    "## 1. Kütüphaneler ve Modüller"
   ]
  },
  {
   "cell_type": "code",
   "execution_count": null,
   "id": "de637cea",
   "metadata": {},
   "outputs": [],
   "source": [
    "\n",
    "import os, sys\n",
    "import torch\n",
    "import torch.nn as nn\n",
    "import torch.optim as optim\n",
    "from torchvision import transforms\n",
    "from torch.optim.lr_scheduler import ReduceLROnPlateau\n",
    "\n",
    "sys.path.append(os.path.abspath(os.path.join(os.getcwd(), '..')))\n",
    "\n",
    "from src.dataset import build_dataloaders\n",
    "from src.transforms import base_train_transform, default_transform\n",
    "from src.model import get_model\n",
    "from src.losses import FocalLoss\n",
    "from src.evaluate import evaluate_model, save_confusion_matrix, save_classification_report\n",
    "from src.visualization import plot_training, generate_gradcam, plot_gradcam_on_image\n"
   ]
  },
  {
   "cell_type": "markdown",
   "id": "5fefbe51",
   "metadata": {},
   "source": [
    "## 2. Veri Yükleme ve Transformlar"
   ]
  },
  {
   "cell_type": "code",
   "execution_count": null,
   "id": "7b5a3568",
   "metadata": {},
   "outputs": [],
   "source": [
    "\n",
    "data_root = \"../data/processed\"\n",
    "batch_size = 32\n",
    "\n",
    "train_loader, val_loader, test_loader, meta = build_dataloaders(\n",
    "    data_root=data_root,\n",
    "    batch_size=batch_size,\n",
    "    train_transform=base_train_transform,\n",
    "    val_transform=default_transform,\n",
    "    use_sampler=True\n",
    ")\n",
    "\n",
    "classes = meta[\"classes\"]\n",
    "class_weights = meta[\"class_weights\"]\n",
    "print(\"Classes:\", classes)\n",
    "print(\"Class distribution:\", meta[\"class_distribution\"])\n"
   ]
  },
  {
   "cell_type": "markdown",
   "id": "11aa1c4c",
   "metadata": {},
   "source": [
    "## 3. Model Tanımlama (ResNet50)"
   ]
  },
  {
   "cell_type": "code",
   "execution_count": null,
   "id": "2fad30e9",
   "metadata": {},
   "outputs": [],
   "source": [
    "\n",
    "device = \"cuda\" if torch.cuda.is_available() else \"cpu\"\n",
    "\n",
    "model = get_model(\n",
    "    model_name=\"resnet\",\n",
    "    num_classes=len(classes),\n",
    "    pretrained=True,\n",
    "    freeze_backbone=False\n",
    ").to(device)\n",
    "\n",
    "gradcam_layer = model.backbone.layer4[-1]\n"
   ]
  },
  {
   "cell_type": "markdown",
   "id": "b5360d56",
   "metadata": {},
   "source": [
    "## 4. Loss, Optimizer ve Scheduler"
   ]
  },
  {
   "cell_type": "code",
   "execution_count": null,
   "id": "18c87920",
   "metadata": {},
   "outputs": [],
   "source": [
    "\n",
    "criterion = FocalLoss(alpha=class_weights.to(device), gamma=2.0)\n",
    "optimizer = optim.Adam(model.parameters(), lr=1e-4, weight_decay=1e-4)\n",
    "scheduler = ReduceLROnPlateau(optimizer, mode=\"min\", factor=0.1, patience=5, verbose=True)\n"
   ]
  },
  {
   "cell_type": "markdown",
   "id": "2354cc3d",
   "metadata": {},
   "source": [
    "## 5. Eğitim Döngüsü"
   ]
  },
  {
   "cell_type": "code",
   "execution_count": null,
   "id": "1de06e41",
   "metadata": {},
   "outputs": [],
   "source": [
    "\n",
    "history = {\"train_loss\": [], \"val_loss\": [], \"train_acc\": [], \"val_acc\": []}\n",
    "best_val_loss = float(\"inf\")\n",
    "\n",
    "for epoch in range(30):\n",
    "    model.train()\n",
    "    running_loss, correct, total = 0.0, 0, 0\n",
    "\n",
    "    for images, labels in train_loader:\n",
    "        images, labels = images.to(device), labels.to(device)\n",
    "        optimizer.zero_grad()\n",
    "        outputs = model(images)\n",
    "        loss = criterion(outputs, labels)\n",
    "        loss.backward()\n",
    "        optimizer.step()\n",
    "\n",
    "        running_loss += loss.item()\n",
    "        _, preds = outputs.max(1)\n",
    "        total += labels.size(0)\n",
    "        correct += preds.eq(labels).sum().item()\n",
    "\n",
    "    train_loss = running_loss / len(train_loader)\n",
    "    train_acc = 100. * correct / total\n",
    "\n",
    "    val_acc, val_loss, _, _ = evaluate_model(model, val_loader, criterion, device)\n",
    "    scheduler.step(val_loss)\n",
    "\n",
    "    history[\"train_loss\"].append(train_loss)\n",
    "    history[\"val_loss\"].append(val_loss)\n",
    "    history[\"train_acc\"].append(train_acc)\n",
    "    history[\"val_acc\"].append(val_acc)\n",
    "\n",
    "    print(f\"Epoch [{epoch+1}/30] \"\n",
    "          f\"Train Loss: {train_loss:.4f}, Train Acc: {train_acc:.2f}% \"\n",
    "          f\"Val Loss: {val_loss:.4f}, Val Acc: {val_acc:.2f}%\")\n"
   ]
  },
  {
   "cell_type": "markdown",
   "id": "1fe90a4a",
   "metadata": {},
   "source": [
    "## 6. Sonuçların Kaydedilmesi"
   ]
  },
  {
   "cell_type": "code",
   "execution_count": null,
   "id": "8490613b",
   "metadata": {},
   "outputs": [],
   "source": [
    "\n",
    "os.makedirs(\"../outputs/models\", exist_ok=True)\n",
    "torch.save(model.state_dict(), \"../outputs/models/alzheimer_resnet.pt\")\n",
    "\n",
    "plot_training(history, save_path=\"../outputs/figures/training_curves_resnet.png\")\n",
    "\n",
    "val_acc, val_loss, y_true, y_pred = evaluate_model(model, val_loader, criterion, device)\n",
    "save_confusion_matrix(y_true, y_pred, classes, \"../outputs/figures/confusion_matrix_resnet.png\")\n",
    "save_classification_report(y_true, y_pred, classes, \"../outputs/reports/classification_report_resnet.txt\")\n"
   ]
  },
  {
   "cell_type": "markdown",
   "id": "a2b65502",
   "metadata": {},
   "source": [
    "## 7. Grad-CAM Yorumlanabilirlik"
   ]
  },
  {
   "cell_type": "code",
   "execution_count": null,
   "id": "a7c33efd",
   "metadata": {},
   "outputs": [],
   "source": [
    "\n",
    "sample_img, _ = next(iter(val_loader))\n",
    "sample_img = sample_img[0].unsqueeze(0).to(device)\n",
    "\n",
    "heatmap, pred_class = generate_gradcam(model, sample_img, conv_layer=gradcam_layer, device=device)\n",
    "\n",
    "inv_transform = transforms.Compose([\n",
    "    transforms.Normalize(mean=[-0.485/0.229, -0.456/0.224, -0.406/0.225],\n",
    "                         std=[1/0.229, 1/0.224, 1/0.225]),\n",
    "    transforms.ToPILImage()\n",
    "])\n",
    "original_img = inv_transform(sample_img.squeeze().cpu())\n",
    "\n",
    "plot_gradcam_on_image(original_img, heatmap, \"../outputs/figures/gradcam_resnet.png\")\n"
   ]
  },
  {
   "cell_type": "markdown",
   "id": "7c85cfa7",
   "metadata": {},
   "source": [
    "## 8. Sonuç ve Çıkarımlar\n",
    "\n",
    "- ResNet50 ile transfer öğrenme, **WeightedRandomSampler + Focal Loss** sayesinde %97 doğruluğa ulaştı.  \n",
    "- `VeryMildDemented` ve `ModerateDemented` sınıflarında belirgin gelişmeler görüldü.  \n",
    "- Grad-CAM çıktıları, modelin klinik olarak anlamlı bölgelere odaklandığını gösterdi.\n",
    "\n",
    "* **Genel Doğruluk:** %97.47\n",
    "* **Sınıf Bazlı F1-Skorları:**\n",
    "    * `MildDemented`: %98\n",
    "    * `ModerateDemented`: %100 🏆\n",
    "    * `NonDemented`: %97\n",
    "    * `VeryMildDemented`: %97\n",
    "\n",
    "    ### **Çıkarım:**\n",
    "* `Training` ve `Validation` eğrileri arasındaki makas kapanmıştır.\n",
    "* `Validation Accuracy` %97'lere ulaşarak modelin genelleme yeteneğinin zirveye ulaştığı kanıtlanmıştır.\n",
    "* **`VeryMildDemented`** sınıfı için elde edilen **%97'lik F1-score**, en zorlu problemin başarıyla çözüldüğünü gösterir.\n",
    "* `Confusion Matrix` ve `Classification Report`'a göre, model tüm sınıflar için dengeli ve güvenilir bir performans sergilemektedir."
   ]
  }
 ],
 "metadata": {
  "language_info": {
   "name": "python"
  }
 },
 "nbformat": 4,
 "nbformat_minor": 5
}
