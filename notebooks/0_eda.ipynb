{
 "cells": [
  {
   "cell_type": "markdown",
   "id": "1acee490",
   "metadata": {},
   "source": [
    "# 🧠 Alzheimer MRI Sınıflandırması: Keşifçi Veri Analizi (EDA)\n",
    "\n",
    "Bu notebook, model eğitimine başlamadan önce veri setimizin yapısını, içeriğini ve karşılaşılabilecek potansiyel problemleri anlamak için hazırlanmıştır."
   ]
  },
  {
   "cell_type": "markdown",
   "id": "4b11a450",
   "metadata": {},
   "source": [
    "### 1. Veri Seti Genel Bakış\n",
    "\n",
    "MRI görüntüleri, Alzheimer hastalığının farklı evrelerindeki beyin atrofisi (küçülmesi) gibi yapısal değişiklikleri gösterir. Modelimizin bu farkları öğrenebilmesi için, verinin doğru bir şekilde anlaşılması ve ön işlenmesi kritik öneme sahiptir. Görüntülerimizin standart boyutu **`176x208`** pikseldir. Bu boyut, derin öğrenme modellerine beslenmeden önce yeniden boyutlandırma gerektirir."
   ]
  },
  {
   "cell_type": "markdown",
   "id": "2431f048",
   "metadata": {},
   "source": [
    "### 1. Veri Seti Genel Bakış\n",
    "\n",
    "MRI görüntüleri, Alzheimer hastalığının farklı evrelerindeki beyin atrofisi (küçülmesi) gibi yapısal değişiklikleri gösterir. Modelimizin bu farkları öğrenebilmesi için, verinin doğru bir şekilde anlaşılması ve ön işlenmesi kritik öneme sahiptir. Görüntülerimizin standart boyutu **`176x208`** pikseldir. Bu boyut, derin öğrenme modellerine beslenmeden önce yeniden boyutlandırma gerektirir."
   ]
  },
  {
   "cell_type": "code",
   "execution_count": null,
   "id": "24ac2fe0",
   "metadata": {},
   "outputs": [],
   "source": [
    "import pandas as pd\n",
    "import matplotlib.pyplot as plt\n",
    "import seaborn as sns\n",
    "\n",
    "\n",
    "class_counts = {\n",
    "    'MildDemented': 716,\n",
    "    'ModerateDemented': 51,\n",
    "    'NonDemented': 2559,\n",
    "    'VeryMildDemented': 1791\n",
    "}\n",
    "\n",
    "df = pd.DataFrame(list(class_counts.items()), columns=['Class', 'Count'])\n",
    "\n",
    "plt.figure(figsize=(10, 6))\n",
    "sns.barplot(x='Class', y='Count', data=df, palette='viridis')\n",
    "plt.title('Sınıf Dağılımı', fontsize=16)\n",
    "plt.xlabel('Alzheimer Evresi', fontsize=12)\n",
    "plt.ylabel('Görüntü Sayısı', fontsize=12)\n",
    "plt.xticks(rotation=45)\n",
    "plt.show()"
   ]
  },
  {
   "cell_type": "markdown",
   "id": "a089d4d8",
   "metadata": {},
   "source": [
    "### 2. Sınıf Dağılımı Analizi\n",
    "\n",
    "#### **Analiz:**\n",
    "* **`NonDemented`** sınıfı **2559** görüntü ile veri setindeki en baskın sınıftır.\n",
    "* **`ModerateDemented`** sınıfı ise sadece **51** görüntü ile en nadir sınıftır. Bu, modelin bu sınıfı doğru bir şekilde öğrenmesi için ciddi bir zorluk teşkil edecektir.\n",
    "* Bu dengesizlik, modelin yüksek bir genel doğruluk (`accuracy`) elde etmek için çoğunluk sınıfları (`NonDemented`) tahmin etmeyi öğrenmesine ve azınlık sınıfları (`ModerateDemented`) göz ardı etmesine neden olabilir."
   ]
  },
  {
   "cell_type": "code",
   "execution_count": null,
   "id": "35b9d56e",
   "metadata": {},
   "outputs": [],
   "source": [
    "from PIL import Image\n",
    "import os\n",
    "\n",
    "\n",
    "image_paths = {\n",
    "    'MildDemented': '../images/mildDem0.jpg',\n",
    "    'ModerateDemented': '../images/moderateDem0.jpg',\n",
    "    'NonDemented': '../images/nonDem0.jpg',\n",
    "    'VeryMildDemented': '../images/verymildDem0.jpg'\n",
    "}\n",
    "\n",
    "plt.figure(figsize=(12, 10))\n",
    "for i, (cls, path) in enumerate(image_paths.items()):\n",
    "    ax = plt.subplot(2, 2, i + 1)\n",
    "    img = Image.open(path)\n",
    "    plt.imshow(img, cmap='gray')\n",
    "    plt.title(f'Sınıf: {cls}')\n",
    "    plt.axis('off')\n",
    "\n",
    "plt.tight_layout()\n",
    "plt.show()"
   ]
  },
  {
   "cell_type": "markdown",
   "id": "0f327876",
   "metadata": {},
   "source": [
    "### 3. Örnek Görüntü Görselleştirmesi\n",
    "\n",
    "Her sınıftan bir örnek görüntüye bakmak, sınıflar arasındaki görsel farkları anlamamıza yardımcı olur. Özellikle `NonDemented` ile `VeryMildDemented` arasındaki ince farkları görmek zor olabilir.\n",
    "\n",
    "### 4. Sonuç ve Çıkarımlar\n",
    "\n",
    "Bu keşifçi analizden elde ettiğimiz ana bulgular şunlardır:\n",
    "1.  **Sınıf Dengesizliği:** Veri setimiz, özellikle `ModerateDemented` sınıfı için ciddi bir dengesizlik göstermektedir. Bu, modelin eğitiminde dikkatle ele alınması gereken en büyük sorundur.\n",
    "2.  **Ön İşleme İhtiyacı:** Görüntülerin farklı boyutlara sahip olması, modelin girdi katmanına beslenmeden önce yeniden boyutlandırma gibi standart ön işleme adımlarının zorunlu olduğunu göstermektedir.\n",
    "3.  **Görsel Zorluk:** Sınıflar arasındaki farklar (özellikle `NonDemented` ve `VeryMildDemented` arasında) görsel olarak çok ince olduğu için, modelin bu farkları ayırt edebilmesi için güçlü bir mimari ve optimizasyon stratejileri gereklidir.\n",
    "\n",
    "Bu bulgular, **`WeightedRandomSampler`**, **`Focal Loss`** ve **transfer öğrenme** gibi stratejilere neden ihtiyaç duyduğumuzu haklı çıkarmaktadır."
   ]
  }
 ],
 "metadata": {
  "kernelspec": {
   "display_name": "Python 3",
   "language": "python",
   "name": "python3"
  },
  "language_info": {
   "codemirror_mode": {
    "name": "ipython",
    "version": 3
   },
   "file_extension": ".py",
   "mimetype": "text/x-python",
   "name": "python",
   "nbconvert_exporter": "python",
   "pygments_lexer": "ipython3",
   "version": "3.12.3"
  }
 },
 "nbformat": 4,
 "nbformat_minor": 5
}
