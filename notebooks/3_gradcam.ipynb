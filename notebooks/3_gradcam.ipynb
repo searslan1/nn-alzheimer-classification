{
 "cells": [
  {
   "cell_type": "markdown",
   "id": "27cd5a84",
   "metadata": {},
   "source": [
    "# 🧠 Alzheimer MRI Sınıflandırması: Grad-CAM ile Model Yorumlanabilirliği\n",
    "\n",
    "Bu notebook, final modelimizin sadece yüksek doğrulukla tahmin yapmakla kalmayıp, bu kararları nasıl aldığını da kanıtlamayı amaçlamaktadır. **Grad-CAM (Gradient-weighted Class Activation Mapping)** tekniği, modelin MRI görüntülerinin hangi bölgelerine odaklandığını görselleştirerek bu yorumlanabilirliği sağlar.\n",
    "\n",
    "---\n",
    "\n",
    "### 1. Grad-CAM Nedir?\n",
    "\n",
    "Grad-CAM, bir sınıflandırma modelinin, tahmin yaparken bir görüntünün hangi kısımlarını en çok önemsediğini gösteren bir ısı haritasıdır (`heatmap`). Bu harita, modelin dikkatini çektiği bölgeleri renklerle (genellikle kırmızı tonları) vurgular. Tıbbi görüntüleme gibi kritik alanlarda, modelin doğru tanı koyarken gerçekten ilgili anatomik bölgelere odaklanıp odaklanmadığını kontrol etmek için vazgeçilmez bir araçtır."
   ]
  },
  {
   "cell_type": "code",
   "execution_count": null,
   "id": "1e2180f8",
   "metadata": {
    "vscode": {
     "languageId": "plaintext"
    }
   },
   "outputs": [],
   "source": [
    "import torch\n",
    "import torch.nn as nn\n",
    "from torchvision import transforms\n",
    "from PIL import Image\n",
    "import os\n",
    "import sys\n",
    "import matplotlib.pyplot as plt\n",
    "import numpy as np\n",
    "\n",
    "# Proje kök dizinini Python yoluna ekle\n",
    "sys.path.append(os.path.abspath(os.path.join(os.path.dirname(__file__), '..')))\n",
    "\n",
    "from src.model import get_model\n",
    "from src.visualization import generate_gradcam\n",
    "from src.dataset import _list_classes, AlzheimerDataset\n",
    "from src.transforms import IMAGENET_MEAN, IMAGENET_STD\n",
    "\n",
    "# Final modelin yolu\n",
    "MODEL_PATH = '../outputs/models/alzheimer_resnet.pt'\n",
    "NUM_CLASSES = 4\n",
    "\n",
    "# Sınıf isimlerini al\n",
    "CLASS_NAMES = _list_classes(os.path.join(os.path.dirname(__file__), '../data/processed/train'))\n",
    "\n",
    "# Modeli yükle\n",
    "def load_final_model(model_path, num_classes):\n",
    "    model = get_model(model_name=\"resnet\", num_classes=num_classes, pretrained=False, freeze_backbone=False)\n",
    "    model.load_state_dict(torch.load(model_path, map_location=torch.device('cpu')))\n",
    "    model.eval()\n",
    "    return model\n",
    "\n",
    "MODEL = load_final_model(MODEL_PATH, NUM_CLASSES)\n",
    "print(\"Final model başarıyla yüklendi.\")"
   ]
  },
  {
   "cell_type": "code",
   "execution_count": null,
   "id": "d84c830e",
   "metadata": {
    "vscode": {
     "languageId": "plaintext"
    }
   },
   "outputs": [],
   "source": [
    "# Örnek bir veri yükleyici oluştur\n",
    "test_path = '../data/processed/test'\n",
    "inference_transform = transforms.Compose([\n",
    "    transforms.Resize((224, 224)),\n",
    "    transforms.ToTensor(),\n",
    "    transforms.Normalize(mean=IMAGENET_MEAN, std=IMAGENET_STD),\n",
    "])\n",
    "test_set = AlzheimerDataset(test_path, transform=inference_transform)\n",
    "test_loader = torch.utils.data.DataLoader(test_set, batch_size=1)\n",
    "\n",
    "# Rastgele bir örnek seçme\n",
    "images, labels = next(iter(test_loader))\n",
    "sample_image = images[0].unsqueeze(0)\n",
    "sample_label = labels[0].item()\n",
    "\n",
    "# Grad-CAM için modelin son evrişim katmanını bulma\n",
    "target_layer = MODEL.backbone.layer4[-1]\n",
    "\n",
    "# Tahmin yapma ve Grad-CAM oluşturma\n",
    "with torch.no_grad():\n",
    "    outputs = MODEL(sample_image)\n",
    "    predicted_idx = torch.argmax(outputs).item()\n",
    "\n",
    "heatmap = generate_gradcam(\n",
    "    MODEL,\n",
    "    sample_image,\n",
    "    conv_layer=target_layer,\n",
    "    pred_idx=predicted_idx,\n",
    "    device=torch.device('cpu')\n",
    ")\n",
    "\n",
    "# Görüntüleri görselleştirme\n",
    "fig, (ax1, ax2) = plt.subplots(1, 2, figsize=(12, 6))\n",
    "\n",
    "# Orijinal görüntüyü gösterme\n",
    "original_image = images[0].permute(1, 2, 0).numpy()\n",
    "ax1.imshow(original_image, cmap='gray')\n",
    "ax1.set_title(f\"Gerçek Sınıf: {CLASS_NAMES[sample_label]}\")\n",
    "ax1.axis('off')\n",
    "\n",
    "# Grad-CAM'i orijinal görüntünün üzerine bindirme\n",
    "ax2.imshow(original_image, cmap='gray')\n",
    "ax2.imshow(heatmap, cmap='jet', alpha=0.5)\n",
    "ax2.set_title(f\"Tahmin Edilen Sınıf: {CLASS_NAMES[predicted_idx]}\")\n",
    "ax2.axis('off')\n",
    "\n",
    "plt.tight_layout()\n",
    "plt.show()"
   ]
  },
  {
   "cell_type": "markdown",
   "id": "4fc9137e",
   "metadata": {},
   "source": [
    "---\n",
    "### 4. Sonuç ve Çıkarım\n",
    "\n",
    "![Grad-CAM Isı Haritası](../images/gradcam_example.png)\n",
    "\n",
    "Grad-CAM görüntüsü, modelin beynin genel yapısına ve Alzheimer ile ilişkili olduğu bilinen bölgelere odaklandığını göstermektedir. Özellikle beynin ventrikülleri ve kortikal bölgelerindeki değişikliklere dikkat çeken bu ısı haritası, modelin aldığı kararların klinik olarak anlamlı olduğunu doğrulamaktadır. Bu, projenizin sadece yüksek doğruluk elde etmekle kalmayıp, aynı zamanda aldığı kararların arkasında mantıklı bir neden olduğunu kanıtlar."
   ]
  }
 ],
 "metadata": {
  "language_info": {
   "name": "python"
  }
 },
 "nbformat": 4,
 "nbformat_minor": 5
}
