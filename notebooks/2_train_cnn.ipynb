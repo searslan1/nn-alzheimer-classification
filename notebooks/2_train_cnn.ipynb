{
 "cells": [
  {
   "cell_type": "markdown",
   "id": "7b137d4a",
   "metadata": {},
   "source": [
    "\n",
    "# 🧠 Alzheimer MRI Sınıflandırması: Baseline CNN Eğitimi\n",
    "\n",
    "Bu notebook, Alzheimer MRI görüntülerini sınıflandırmak için **baseline CNN modeli**nin eğitim sürecini içermektedir.  \n",
    "Amaç, transfer öğrenme ve ileri optimizasyon stratejileri öncesinde, basit bir CNN’in performansını gözlemlemek ve sınırlılıklarını ortaya koymaktır.\n",
    "\n",
    "- Model: Custom CNN (`src/model.py`)\n",
    "- Loss: CrossEntropy (class weights ile)\n",
    "- Sampler: Kullanılmadı\n",
    "- Amaç: Karşılaştırma için baseline performans\n"
   ]
  },
  {
   "cell_type": "code",
   "execution_count": null,
   "id": "cdd7fc87",
   "metadata": {},
   "outputs": [],
   "source": [
    "import torch, sys, os\n",
    "\n",
    "sys.path.append(os.path.abspath(os.path.join(os.getcwd(), '..')))\n",
    "from prepare_data import prepare_data\n",
    "\n",
    "# Veriyi hazırla (train/val/test split)\n",
    "prepare_data()\n",
    "\n",
    "from src.train import train_model\n"
   ]
  },
  {
   "cell_type": "code",
   "execution_count": null,
   "id": "ab552481",
   "metadata": {},
   "outputs": [],
   "source": [
    "model, history, classes = train_model(\n",
    "    model_name=\"cnn\",\n",
    "    epochs=50,\n",
    "    batch_size=32,\n",
    "    lr=1e-3,\n",
    "    use_focal=False,     # baseline: focal loss kapalı\n",
    "    use_sampler=False    # baseline: sampler kapalı\n",
    ")"
   ]
  },
  {
   "cell_type": "markdown",
   "id": "4ed19220",
   "metadata": {},
   "source": [
    "\n",
    "## 📊 Eğitim Eğrileri\n",
    "\n",
    "Aşağıda training ve validation loss/accuracy eğrileri görülmektedir.\n"
   ]
  },
  {
   "cell_type": "code",
   "execution_count": null,
   "id": "2096b16d",
   "metadata": {},
   "outputs": [],
   "source": [
    "import torch, sys, os\n",
    "\n",
    "\n",
    "from src.visualization import plot_training\n",
    "\n",
    "plot_training(history, save_path=\"../outputs/figures/training_curves_cnn.png\")\n"
   ]
  },
  {
   "cell_type": "markdown",
   "id": "5c34bdf1",
   "metadata": {},
   "source": [
    "\n",
    "## 🔎 Confusion Matrix\n",
    "Modelin sınıf bazında tahmin performansını incelemek için confusion matrix:\n"
   ]
  },
  {
   "cell_type": "code",
   "execution_count": null,
   "id": "fad20edb",
   "metadata": {},
   "outputs": [],
   "source": [
    "\n",
    "\n",
    "from src.evaluate import save_confusion_matrix\n",
    "\n",
    "# Confusion matrix training sırasında zaten kaydedildi.\n",
    "# Tekrar üretmek için evaluate fonksiyonunu çağırabilirsin.\n"
   ]
  },
  {
   "cell_type": "markdown",
   "id": "606bb797",
   "metadata": {},
   "source": [
    "\n",
    "## 📑 Classification Report\n",
    "\n",
    "Precision, recall ve F1-score değerleri:\n"
   ]
  },
  {
   "cell_type": "code",
   "execution_count": null,
   "id": "aa106573",
   "metadata": {},
   "outputs": [],
   "source": [
    "\n",
    "from src.evaluate import save_classification_report\n",
    "\n",
    "# Classification report training sırasında zaten kaydedildi.\n",
    "# İstersen dosyadan okuyup yazdırabilirsin.\n"
   ]
  },
  {
   "cell_type": "markdown",
   "id": "0e148f34",
   "metadata": {},
   "source": [
    "\n",
    "## ✅ Sonuç ve Değerlendirme\n",
    "\n",
    "- Baseline CNN modeli, özellikle **ModerateDemented** ve **VeryMildDemented** sınıflarında düşük performans göstermektedir.\n",
    "- Genel doğruluk yaklaşık %50–60 arasında kalmaktadır.\n",
    "- Bu durum, **transfer öğrenme** gibi daha güçlü stratejilere ihtiyaç olduğunu göstermektedir.\n"
   ]
  },
  {
   "cell_type": "markdown",
   "id": "ba825888",
   "metadata": {},
   "source": [
    "### Eğitim ve Doğrulama Eğrileri\n",
    "\n",
    "Modelin eğitim ve doğrulama süreçleri incelendiğinde, temel bir CNN'nin öğrenme dinamikleri net bir şekilde görülmektedir.\n",
    "\n",
    "![Training and Validation Loss and Accuracy](../images/training_curvesv2.png)\n",
    "\n",
    "#### **Analiz:**\n",
    "* **Eğitim ve Doğrulama Kaybı (`Loss`):** Eğitim kaybı istikrarlı bir şekilde azalırken, doğrulama kaybı yüksek seviyelerde dalgalanmalar gösteriyor. Bu durum, modelin eğitim verisini ezberleme eğiliminde olduğunu ve yeni verilere genelleme yapmakta zorlandığını gösterir.\n",
    "* **Eğitim ve Doğrulama Doğruluğu (`Accuracy`):** Doğrulama doğruluğu, en yüksek **%58** seviyesine ulaşsa da, istikrarsızdır ve dalgalanmalar gösterir. Eğitim doğruluğu ise daha yavaş yükselir, bu da modelin öğrenme kapasitesinin sınırlı olduğunu işaret eder. Bu grafikler, modelin aşırı öğrenme (`overfitting`) problemi yaşadığını açıkça göstermektedir."
   ]
  },
  {
   "cell_type": "markdown",
   "id": "fe5309fb",
   "metadata": {},
   "source": [
    "### Sınıflandırma Metrikleri\n",
    "\n",
    "Temel modelin doğrulama seti üzerindeki performansını daha yakından incelemek, sınıflar arası denge sorununu ortaya koyar.\n",
    "\n",
    "![Confusion Matrix](../images/confusion_matrixv2.png)\n",
    "\n",
    "#### **Analiz:**\n",
    "* **Genel Doğruluk:** %52 gibi düşük bir doğruluk değeri, temel modelin Alzheimer evrelerini güvenilir bir şekilde sınıflandıramadığını gösterir.\n",
    "* **`ModerateDemented` Sınıfı:** Karışıklık matrisinde görüldüğü gibi, en nadir sınıf olan `ModerateDemented` için **hiçbir doğru tahmin yapılamamıştır**. Model bu sınıfı tamamen göz ardı etmiştir.\n",
    "* **`VeryMildDemented` Sınıfı:** 359 örneğin sadece 92'si doğru tahmin edilmiştir. Geri kalan 267 örnek `MildDemented` olarak yanlış sınıflandırılmıştır.\n",
    "* **Sınıf Dengesi Sorunu:** Model, `MildDemented` sınıfına 144 adet, `VeryMildDemented` sınıfına 92 adet, `NonDemented` sınıfına 339 adet yanlış tahmin yapmıştır. Bu, modelin veri setindeki dengesizliği yönetemediğini ve tahminlerini çoğunluk sınıflara kaydırdığını göstermektedir.\n",
    "\n",
    "### Grad-CAM\n",
    "\n",
    "![Grad-CAM Heatmap](../images/gradcamv2.png)"
   ]
  }
 ],
 "metadata": {
  "language_info": {
   "name": "python"
  }
 },
 "nbformat": 4,
 "nbformat_minor": 5
}
