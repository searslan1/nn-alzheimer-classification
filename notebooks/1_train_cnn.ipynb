{
 "cells": [
  {
   "cell_type": "markdown",
   "id": "09084c00",
   "metadata": {},
   "source": [
    "# 🧠 Alzheimer CNN Sınıflandırması: Basit CNN Modeli (Baseline)\n",
    "\n",
    "Bu notebook, transfer öğrenme gibi gelişmiş teknikler kullanmadan, temel bir **Convolutional Neural Network (CNN)** modeliyle projemize bir başlangıç noktası (`baseline`) oluşturmayı amaçlamaktadır.\n",
    "\n",
    "### 1. Model Mimarisi\n",
    "\n",
    "Kullanılan basit CNN modeli, görüntüden özellik çıkarmak için evrişimsel katmanları, boyutu küçültmek için havuzlama katmanlarını ve tahmin yapmak için tam bağlı katmanları içerir."
   ]
  },
  {
   "cell_type": "code",
   "execution_count": null,
   "id": "2535430d",
   "metadata": {
    "vscode": {
     "languageId": "plaintext"
    }
   },
   "outputs": [],
   "source": [
    "class AlzheimerCNN(nn.Module):\n",
    "    def __init__(self, num_classes: int = 4):\n",
    "        super(AlzheimerCNN, self).__init__()\n",
    "\n",
    "        # 1. Convolutional block\n",
    "        self.conv1 = nn.Conv2d(in_channels=3, out_channels=32, kernel_size=3, padding=1)\n",
    "        self.bn1   = nn.BatchNorm2d(32)\n",
    "        self.pool1 = nn.MaxPool2d(kernel_size=2, stride=2)\n",
    "\n",
    "        # 2. Convolutional block\n",
    "        self.conv2 = nn.Conv2d(in_channels=32, out_channels=64, kernel_size=3, padding=1)\n",
    "        self.bn2   = nn.BatchNorm2d(64)\n",
    "        self.pool2 = nn.MaxPool2d(kernel_size=2, stride=2)\n",
    "\n",
    "        # 3. Convolutional block\n",
    "        self.conv3 = nn.Conv2d(in_channels=64, out_channels=128, kernel_size=3, padding=1)\n",
    "        self.bn3   = nn.BatchNorm2d(128)\n",
    "        self.pool3 = nn.MaxPool2d(kernel_size=2, stride=2)\n",
    "\n",
    "        # Fully connected layers\n",
    "        self.fc1   = nn.Linear(128 * 28 * 28, 512)  # Input boyutu image size'a göre değişebilir!\n",
    "        self.drop1 = nn.Dropout(p=0.5)\n",
    "        self.fc2   = nn.Linear(512, num_classes)\n",
    "\n",
    "    def forward(self, x):\n",
    "        # Block 1\n",
    "        x = self.pool1(F.relu(self.bn1(self.conv1(x))))\n",
    "        # Block 2\n",
    "        x = self.pool2(F.relu(self.bn2(self.conv2(x))))\n",
    "        # Block 3\n",
    "        x = self.pool3(F.relu(self.bn3(self.conv3(x))))\n",
    "        # Flatten\n",
    "        x = x.view(x.size(0), -1)\n",
    "        # Fully connected\n",
    "        x = F.relu(self.fc1(x))\n",
    "        x = self.drop1(x)\n",
    "        x = self.fc2(x)\n",
    "        return x\n"
   ]
  },
  {
   "cell_type": "markdown",
   "id": "b6af61c0",
   "metadata": {},
   "source": [
    "### 2. Eğitim ve Doğrulama Eğrileri\n",
    "\n",
    "Modelin eğitim ve doğrulama süreçleri incelendiğinde, temel bir CNN'nin öğrenme dinamikleri net bir şekilde görülmektedir.\n",
    "\n",
    "![Training and Validation Loss and Accuracy](images/training_curvesv2.png)\n",
    "\n",
    "#### **Analiz:**\n",
    "* **Eğitim ve Doğrulama Kaybı (`Loss`):** Eğitim kaybı istikrarlı bir şekilde azalırken, doğrulama kaybı yüksek seviyelerde dalgalanmalar gösteriyor. Bu durum, modelin eğitim verisini ezberleme eğiliminde olduğunu ve yeni verilere genelleme yapmakta zorlandığını gösterir.\n",
    "* **Eğitim ve Doğrulama Doğruluğu (`Accuracy`):** Doğrulama doğruluğu, en yüksek **%58** seviyesine ulaşsa da, istikrarsızdır ve dalgalanmalar gösterir. Eğitim doğruluğu ise daha yavaş yükselir, bu da modelin öğrenme kapasitesinin sınırlı olduğunu işaret eder. Bu grafikler, modelin aşırı öğrenme (`overfitting`) problemi yaşadığını açıkça göstermektedir."
   ]
  },
  {
   "cell_type": "markdown",
   "id": "0c755470",
   "metadata": {},
   "source": [
    "### 3. Sınıflandırma Metrikleri\n",
    "\n",
    "Temel modelin doğrulama seti üzerindeki performansını daha yakından incelemek, sınıflar arası denge sorununu ortaya koyar.\n",
    "\n",
    "![Confusion Matrix](images/confusion_matrixv2.png)\n",
    "\n",
    "#### **Analiz:**\n",
    "* **Genel Doğruluk:** %52 gibi düşük bir doğruluk değeri, temel modelin Alzheimer evrelerini güvenilir bir şekilde sınıflandıramadığını gösterir.\n",
    "* **`ModerateDemented` Sınıfı:** Karışıklık matrisinde görüldüğü gibi, en nadir sınıf olan `ModerateDemented` için **hiçbir doğru tahmin yapılamamıştır**. Model bu sınıfı tamamen göz ardı etmiştir.\n",
    "* **`VeryMildDemented` Sınıfı:** 359 örneğin sadece 92'si doğru tahmin edilmiştir. Geri kalan 267 örnek `MildDemented` olarak yanlış sınıflandırılmıştır.\n",
    "* **Sınıf Dengesi Sorunu:** Model, `MildDemented` sınıfına 144 adet, `VeryMildDemented` sınıfına 92 adet, `NonDemented` sınıfına 339 adet yanlış tahmin yapmıştır. Bu, modelin veri setindeki dengesizliği yönetemediğini ve tahminlerini çoğunluk sınıflara kaydırdığını göstermektedir.\n",
    "\n",
    "### 4. Grad-CAM\n",
    "\n",
    "![Grad-CAM Heatmap](images/gradcamv2.png)\n",
    "\n",
    "#### **Analiz:**\n",
    "* Grad-CAM görüntüsü, modelin beynin genel yapısına değil, daha çok kenar bölgelerine odaklandığını göstermektedir. Bu, modelin sınıflar arasındaki farkı, anatomik bilgilerden ziyade, görüntünün yüzeysel özelliklerinden öğrenmeye çalıştığını işaret eder."
   ]
  }
 ],
 "metadata": {
  "language_info": {
   "name": "python"
  }
 },
 "nbformat": 4,
 "nbformat_minor": 5
}
