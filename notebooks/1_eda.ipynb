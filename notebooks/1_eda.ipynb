{
 "cells": [
  {
   "cell_type": "markdown",
   "id": "a9766944",
   "metadata": {},
   "source": [
    "# 🧠 Alzheimer MRI Sınıflandırması: Keşifçi Veri Analizi (EDA)\n",
    "\n",
    "Bu notebook, model eğitimine başlamadan önce veri setimizin yapısını, içeriğini ve karşılaşılabilecek potansiyel problemleri anlamak için hazırlanmıştır.\n",
    "\n",
    "**Amaçlar:**\n",
    "- Veri dağılımını anlamak\n",
    "- Görselleri tanımak\n",
    "- Augmentasyon ihtiyacını görmek\n",
    "- Model için gerekli stratejilerin zeminini oluşturmak\n"
   ]
  },
  {
   "cell_type": "code",
   "execution_count": null,
   "id": "59560372",
   "metadata": {},
   "outputs": [],
   "source": [
    "import os, sys\n",
    "sys.path.append(os.path.abspath(os.path.join(os.path.dirname(__file__), '..')))\n",
    "\n",
    "import pandas as pd\n",
    "import matplotlib.pyplot as plt\n",
    "import seaborn as sns\n",
    "\n",
    "from src.dataset import AlzheimerDataset, _list_classes\n",
    "from src.transforms import base_train_transform, default_transform, IMAGENET_MEAN, IMAGENET_STD\n",
    "\n",
    "from torchvision import transforms"
   ]
  },
  {
   "cell_type": "code",
   "execution_count": null,
   "id": "1d1c7224",
   "metadata": {},
   "outputs": [],
   "source": [
    "data_root = \"../data/processed\"\n",
    "train_path = os.path.join(data_root, \"train\")\n",
    "classes = _list_classes(train_path)\n",
    "\n",
    "dataset = AlzheimerDataset(train_path, transform=default_transform)\n",
    "\n",
    "print(\"Sınıflar:\", classes)\n",
    "print(\"Toplam örnek sayısı:\", len(dataset))"
   ]
  },
  {
   "cell_type": "code",
   "execution_count": null,
   "id": "8e01599d",
   "metadata": {},
   "outputs": [],
   "source": [
    "counts = {cls: dataset.labels.count(i) for i, cls in enumerate(classes)}\n",
    "df = pd.DataFrame(list(counts.items()), columns=[\"Class\", \"Count\"])\n",
    "df[\"Percentage\"] = df[\"Count\"] / df[\"Count\"].sum() * 100\n",
    "\n",
    "plt.figure(figsize=(10,6))\n",
    "sns.barplot(x=\"Class\", y=\"Count\", data=df, palette=\"viridis\")\n",
    "plt.title(\"Sınıf Dağılımı\", fontsize=16)\n",
    "plt.show()\n",
    "\n",
    "df"
   ]
  },
  {
   "cell_type": "code",
   "execution_count": null,
   "id": "dc0964fc",
   "metadata": {},
   "outputs": [],
   "source": [
    "sample_transform = transforms.Compose([\n",
    "    transforms.Resize((176,208)),\n",
    "    transforms.ToTensor()\n",
    "])\n",
    "\n",
    "eda_dataset = AlzheimerDataset(train_path, transform=sample_transform)\n",
    "\n",
    "fig, axes = plt.subplots(1, 4, figsize=(12,4))\n",
    "for i in range(4):\n",
    "    img, label = eda_dataset[i]\n",
    "    axes[i].imshow(img.permute(1,2,0))\n",
    "    axes[i].set_title(classes[label])\n",
    "    axes[i].axis(\"off\")\n",
    "plt.tight_layout()\n",
    "plt.show()"
   ]
  },
  {
   "cell_type": "code",
   "execution_count": null,
   "id": "115ec544",
   "metadata": {},
   "outputs": [],
   "source": [
    "sample_img, label = eda_dataset[0]\n",
    "augmented_img = base_train_transform(transforms.ToPILImage()(sample_img))\n",
    "\n",
    "fig, (ax1, ax2) = plt.subplots(1,2, figsize=(8,4))\n",
    "ax1.imshow(sample_img.permute(1,2,0))\n",
    "ax1.set_title(\"Orijinal\")\n",
    "ax1.axis(\"off\")\n",
    "\n",
    "ax2.imshow(augmented_img.permute(1,2,0))\n",
    "ax2.set_title(\"Augmented (base_train_transform)\")\n",
    "ax2.axis(\"off\")\n",
    "plt.show()"
   ]
  },
  {
   "cell_type": "markdown",
   "id": "5f8d339e",
   "metadata": {},
   "source": [
    "## 📌 Sonuç ve Çıkarımlar\n",
    "\n",
    "1. **Sınıf Dengesizliği:** `ModerateDemented` sınıfı çok az sayıda örneğe sahip.\n",
    "2. **Ön İşleme İhtiyacı:** Görseller standart boyuta (224x224) resize edilmeli ve normalize edilmelidir.\n",
    "3. **Augmentasyon İhtiyacı:** Özellikle `VeryMildDemented` ve `ModerateDemented` sınıflarda gerekli.\n",
    "4. **Model Gereksinimleri:** WeightedRandomSampler + Focal Loss gibi yöntemler, bu dengesizlikleri aşmak için kritik öneme sahiptir.\n"
   ]
  }
 ],
 "metadata": {},
 "nbformat": 4,
 "nbformat_minor": 5
}